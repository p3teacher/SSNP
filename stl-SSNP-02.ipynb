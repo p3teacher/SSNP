{
 "cells": [
  {
   "cell_type": "code",
   "execution_count": 1,
   "id": "b8355b75-a490-48a1-aa99-7b83ad2debfb",
   "metadata": {},
   "outputs": [
    {
     "name": "stdout",
     "output_type": "stream",
     "text": [
      "當前工作目錄 ==> /home/jovyan\n",
      "buttom_3D.stl is created\n",
      "\n",
      "\n"
     ]
    }
   ],
   "source": [
    "# stl-SSNP-02.py\n",
    "# 2021-11-27\n",
    "#\n",
    "# read dem-all-7.csv file\n",
    "# x,y,z = np.loadtxt(path_data + 'dem_all-7.csv', unpack=True)\n",
    "#\n",
    "import os\n",
    "path = os.getcwd()\n",
    "print('當前工作目錄 ==>', path)\n",
    "#\n",
    "import numpy as np\n",
    "from stl import mesh\n",
    "import pprint\n",
    "#\n",
    "path_data  = './data/'\n",
    "path_3Dstl = './3Dstl/'\n",
    "#\n",
    "# Left Down point:  0.0  0.0\n",
    "# Right Up point:  40.0 78.0\n",
    "# height (min, max) 0.0 357.21\n",
    "#\n",
    "# up layer verteices\n",
    "A_up = ( 0.0,  0.0, 0.0) # 0\n",
    "B_up = (40.0,  0.0, 0.0) # 1\n",
    "C_up = (40.0, 78.0, 0.0) # 2\n",
    "D_up = ( 0.0, 78.0, 0.0) # 3\n",
    "#\n",
    "# down layer verteices\n",
    "a_dn = ( 0.0,  0.0,-1.0) # 4\n",
    "b_dn = (40.0,  0.0,-1.0) # 5\n",
    "c_dn = (40.0, 78.0,-1.0) # 6\n",
    "d_dn = ( 0.0, 78.0,-1.0) # 7\n",
    "#\n",
    "# up face is empty\n",
    "faces = [[C_up,c_dn,d_dn],[d_dn,D_up,C_up], # front\n",
    "         [A_up,a_dn,b_dn],[b_dn,B_up,A_up], # back\n",
    "         [B_up,b_dn,c_dn],[c_dn,C_up,B_up], # left\n",
    "         [d_dn,a_dn,D_up],[a_dn,A_up,D_up], # right\n",
    "         [d_dn,c_dn,a_dn],[c_dn,b_dn,a_dn]] # down\n",
    "#\n",
    "buttom_faces = np.zeros(10, dtype=mesh.Mesh.dtype)\n",
    "#\n",
    "for i in range(0,10,1) :\n",
    "    buttom_faces['vectors'][i] = np.array(faces[i])\n",
    "# end for\n",
    "#\n",
    "# Create the mesh\n",
    "buttom_3D = mesh.Mesh(buttom_faces)\n",
    "# Write the mesh to file \"cube.stl\"\n",
    "buttom_3D.save(path_3Dstl + 'buttom_3D.stl')\n",
    "#\n",
    "print('buttom_3D.stl is created')\n",
    "print ('\\n')\n",
    "#"
   ]
  },
  {
   "cell_type": "code",
   "execution_count": null,
   "id": "af04f20a-4374-4ac5-9aa6-46a912f9c43b",
   "metadata": {},
   "outputs": [],
   "source": []
  }
 ],
 "metadata": {
  "kernelspec": {
   "display_name": "Python 3 (ipykernel)",
   "language": "python",
   "name": "python3"
  },
  "language_info": {
   "codemirror_mode": {
    "name": "ipython",
    "version": 3
   },
   "file_extension": ".py",
   "mimetype": "text/x-python",
   "name": "python",
   "nbconvert_exporter": "python",
   "pygments_lexer": "ipython3",
   "version": "3.7.12"
  }
 },
 "nbformat": 4,
 "nbformat_minor": 5
}
