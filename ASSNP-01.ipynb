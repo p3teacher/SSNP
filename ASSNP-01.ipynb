{
 "cells": [
  {
   "cell_type": "code",
   "execution_count": null,
   "id": "ee76bf87-c0d2-4b4e-a1d9-c6441eac8cc8",
   "metadata": {},
   "outputs": [],
   "source": [
    "# ASSNP-01.py\n",
    "# 2021-11-27\n",
    "#\n",
    "# 合併[dem-01, dem02, ----, dem-10], 產生dem-all.csv file\n",
    "#\n",
    "# run on replit.com\n",
    "# 程式檔 path is '/home/runner/ASSNP-01'\n",
    "# 資料檔 path is '/home/runner/ASSNP-01/data'\n",
    "# 圖形檔 path is '/home/runner/ASSNP-01/graphic'\n",
    "#\n",
    "import os\n",
    "path = os.getcwd()\n",
    "print('當前工作目錄 ==>', path)\n",
    "#\n",
    "path_data    = './data/'\n",
    "#\n",
    "# 依序讀入20m DEM ASCII text data file, format is: x y z\n",
    "#\n",
    "\n",
    "filenames = [path_data + '94182021dem.grd',\n",
    "             path_data + '94182022dem.grd',\n",
    "             path_data + '94182031dem.grd',\n",
    "             path_data + '94182032dem.grd',\n",
    "             path_data + '94183040dem.grd',\n",
    "             path_data + '94182041dem.grd',\n",
    "             path_data + '94182042dem.grd',\n",
    "             path_data + '94183050dem.grd',\n",
    "             path_data + '94182051dem.grd',\n",
    "             path_data + '94182052dem.grd' ]\n",
    "#\n",
    "with open(path_data + 'dem-all-1.grd','wt', newline=\"\") as outfile:\n",
    "    for filename in filenames:\n",
    "        with open(filename) as infile:\n",
    "            for line in infile:\n",
    "                outfile.write(line)\n",
    "            # end for\n",
    "    # end for\n",
    "# end with\n",
    "#\n",
    "# dem-all-1.grd --> total 149328 rows\n",
    "print ('Done')\n"
   ]
  },
  {
   "cell_type": "code",
   "execution_count": null,
   "id": "bc7cee0a-20e5-4655-a2b2-17f154473e86",
   "metadata": {},
   "outputs": [],
   "source": []
  }
 ],
 "metadata": {
  "kernelspec": {
   "display_name": "Python 3 (ipykernel)",
   "language": "python",
   "name": "python3"
  },
  "language_info": {
   "codemirror_mode": {
    "name": "ipython",
    "version": 3
   },
   "file_extension": ".py",
   "mimetype": "text/x-python",
   "name": "python",
   "nbconvert_exporter": "python",
   "pygments_lexer": "ipython3",
   "version": "3.7.12"
  }
 },
 "nbformat": 4,
 "nbformat_minor": 5
}
