{
 "cells": [
  {
   "cell_type": "code",
   "execution_count": 1,
   "id": "eddf0088-da9f-410b-a58b-f7ee4b6ca837",
   "metadata": {},
   "outputs": [
    {
     "name": "stdout",
     "output_type": "stream",
     "text": [
      "當前工作目錄 ==> /home/jovyan\n",
      "Laser cut boundary has 349 rows\n",
      "         each rows has 207 columns\n",
      "\n",
      "\n",
      "Done\n"
     ]
    }
   ],
   "source": [
    "# stl-SSNP-12B3-cut-plates-pickle-write.py\n",
    "# 2021-12-27\n",
    "#\n",
    "# pickle 是 Python 的內建模組\n",
    "# read 349x196x3_XYZ.dat file\n",
    "#\n",
    "import os\n",
    "path = os.getcwd()\n",
    "print('當前工作目錄 ==>', path)\n",
    "#\n",
    "from shapely.geometry  import LineString\n",
    "from operator import itemgetter\n",
    "#\n",
    "import pprint\n",
    "import pickle\n",
    "#\n",
    "path_data    = './data/'\n",
    "#\n",
    "## ================================================================\n",
    "#\n",
    "with open(path_data + '349x196x3_XYZ.dat', 'rb') as in_file :\n",
    "    dem_rows = pickle.load(in_file)\n",
    "# end with    \n",
    "#\n",
    "# up layer verteices\n",
    "A_up = [38.0, 90.0, 0.0] # 0\n",
    "B_up = [-1.0, 90.0, 0.0] # 1\n",
    "C_up = [-1.0, 20.4, 0.0] # 2\n",
    "D_up = [38.0, 20.4, 0.0] # 3\n",
    "#\n",
    "# down layer verteices\n",
    "a_dn = [38.0, 90.0,-2.0] # 4\n",
    "b_dn = [-1.0, 90.0,-2.0] # 5\n",
    "c_dn = [-1.0, 20.4,-2.0] # 6\n",
    "d_dn = [38.0, 20.4,-2.0] # 7\n",
    "#\n",
    "left_open_cut_xy  = [(10.25, -2) , (10.25, -1.2), ( 9.75, -1.2), ( 9.75, -2)]\n",
    "left_dn_xy  = [(-1.0,-2.0)]\n",
    "#\n",
    "right_dn_xy = [(38.0,-2.0)]\n",
    "right_open_cut_xy = [(28.25, -2) , (28.25, -1.2), (27.75, -1.2), (27.75, -2)]\n",
    "#\n",
    "xz_rows = []\n",
    "for i in range(0,349,1) :\n",
    "    XZ_tuple_row = [(XYZ[0], round(XYZ[2],3)) for XYZ in dem_rows[i]]\n",
    "    Boundary = left_open_cut_xy + left_dn_xy + XZ_tuple_row + right_dn_xy + right_open_cut_xy + [(10.25, -2)]\n",
    "    xz_rows.append(Boundary)\n",
    "# end for\n",
    "#\n",
    "print('Laser cut boundary has', len(xz_rows),    'rows')\n",
    "print('         each rows has', len(xz_rows[0]), 'columns')\n",
    "print ('\\n')\n",
    "#\n",
    "# pprint.pprint(xz_rows[100])\n",
    "# xz_rows --> shape=(349,209,2)\n",
    "with open(path_data + '349x209x2_XZ.dat', 'wb') as out_file :\n",
    "    pickle.dump(xz_rows, out_file)\n",
    "# end with    \n",
    "#\n",
    "print ('Done')\n"
   ]
  },
  {
   "cell_type": "code",
   "execution_count": null,
   "id": "8143102d-3e14-4f96-8f51-4b829a390681",
   "metadata": {},
   "outputs": [],
   "source": []
  }
 ],
 "metadata": {
  "kernelspec": {
   "display_name": "Python 3 (ipykernel)",
   "language": "python",
   "name": "python3"
  },
  "language_info": {
   "codemirror_mode": {
    "name": "ipython",
    "version": 3
   },
   "file_extension": ".py",
   "mimetype": "text/x-python",
   "name": "python",
   "nbconvert_exporter": "python",
   "pygments_lexer": "ipython3",
   "version": "3.7.12"
  }
 },
 "nbformat": 4,
 "nbformat_minor": 5
}
