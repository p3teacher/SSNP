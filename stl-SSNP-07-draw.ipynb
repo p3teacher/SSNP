{
 "cells": [
  {
   "cell_type": "code",
   "execution_count": null,
   "id": "b50c5e29-cbbd-42b8-a033-4e927ff8a225",
   "metadata": {},
   "outputs": [],
   "source": [
    "# stl-SSNP-07-draw\n",
    "# 2021-11-28\n",
    "#\n",
    "import os\n",
    "# to fix matplotlib warning\n",
    "os.environ['MPLCONFIGDIR'] = os.getcwd() + \"/configs/\"\n",
    "#\n",
    "path = os.getcwd()\n",
    "print('當前工作目錄 ==>', path)\n",
    "#\n",
    "from stl import mesh\n",
    "from matplotlib import pyplot\n",
    "from mpl_toolkits import mplot3d\n",
    "#\n",
    "path_data  = './data/'\n",
    "path_3Dstl = './3Dstl/'\n",
    "#\n",
    "# Create a new plot\n",
    "fig = pyplot.figure(figsize=(70, 70))\n",
    "ax = fig.add_subplot(1,1,1, projection='3d')\n",
    "#\n",
    "# Load the STL files and add the vectors to the plot\n",
    "my_mesh = mesh.Mesh.from_file(path_3Dstl + 'SSNP3D.stl')\n",
    "ax.add_collection3d(mplot3d.art3d.Poly3DCollection(my_mesh.vectors, color='lightgreen'))\n",
    "#\n",
    "ax.view_init(0,230) # best view\n",
    "scale = my_mesh.points.flatten() # C, F, A, or K\n",
    "# Auto scale to the mesh size\n",
    "ax.auto_scale_xyz(scale, scale, scale)\n",
    "pyplot.axis('off')\n",
    "# Show the plot to the screen\n",
    "pyplot.draw()\n",
    "#\n",
    "pyplot.savefig(path_3Dstl + \"SSNP3D.png\",format=\"png\",dpi=150)\n",
    "#\n",
    "print('Done')"
   ]
  }
 ],
 "metadata": {
  "kernelspec": {
   "display_name": "Python 3 (ipykernel)",
   "language": "python",
   "name": "python3"
  },
  "language_info": {
   "codemirror_mode": {
    "name": "ipython",
    "version": 3
   },
   "file_extension": ".py",
   "mimetype": "text/x-python",
   "name": "python",
   "nbconvert_exporter": "python",
   "pygments_lexer": "ipython3",
   "version": "3.7.12"
  }
 },
 "nbformat": 4,
 "nbformat_minor": 5
}
