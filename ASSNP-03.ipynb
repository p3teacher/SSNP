{
 "cells": [
  {
   "cell_type": "code",
   "execution_count": 1,
   "id": "88edf8d8-28a6-49ef-b814-5e4449f9c254",
   "metadata": {},
   "outputs": [
    {
     "name": "stdout",
     "output_type": "stream",
     "text": [
      "當前工作目錄 ==> /home/jovyan\n",
      "Done\n"
     ]
    }
   ],
   "source": [
    "# ASSNP-03.py\n",
    "# 2021-11-30\n",
    "#\n",
    "# read in dem-all-2.csv file, \n",
    "#      sort and delete duplicate line,\n",
    "# write out dem-all-3.csv, dem-all-4.csv file.\n",
    "#\n",
    "import os\n",
    "path = os.getcwd()\n",
    "print('當前工作目錄 ==>', path)\n",
    "#\n",
    "import csv, operator\n",
    "#\n",
    "path_data = './data/'\n",
    "# \n",
    "# first sort by X value\n",
    "#  then sort by Y value\n",
    "# effect is : Y Order first, then X Order\n",
    "#\n",
    "# Sort file\n",
    "#\n",
    "in_file  = open(path_data + 'dem-all-2.csv', mode='r', newline='', encoding='utf-8')\n",
    "out_file = open(path_data + 'dem-all-3.csv', mode='w', newline='', encoding='utf-8')\n",
    "#\n",
    "reader = csv.reader(in_file,  delimiter=',')\n",
    "writer = csv.writer(out_file, delimiter=',')\n",
    "sorted_1 = sorted(reader,  key=operator.itemgetter(0)) \n",
    "sorted_2 = sorted(sorted_1, key=operator.itemgetter(1)) \n",
    "for row in sorted_2:\n",
    "    writer.writerow(row)\n",
    "# end for\n",
    "in_file.close()\n",
    "out_file.close()\n",
    "#\n",
    "# dem-all-3.csv have 149328 rows\n",
    "# After delete duplicate lines\n",
    "# dem-all-4.csv have 140547 rows\n",
    "#\n",
    "lines_seen = set() # holds lines already seen\n",
    "out_file = open(path_data + 'dem-all-4.csv', \"w\", newline='', encoding='utf-8')\n",
    "for line in open(path_data + 'dem-all-3.csv', \"rt\", newline='', encoding='utf-8'):\n",
    "    if line not in lines_seen: # not a duplicate\n",
    "        out_file.write(line)\n",
    "        lines_seen.add(line)\n",
    "    # end if\n",
    "# end for\n",
    "#\n",
    "out_file.close()\n",
    "#\n",
    "print ('Done')"
   ]
  },
  {
   "cell_type": "code",
   "execution_count": null,
   "id": "6b6d3284-f3c2-4071-b4b4-c273bbb83ada",
   "metadata": {},
   "outputs": [],
   "source": []
  }
 ],
 "metadata": {
  "kernelspec": {
   "display_name": "Python 3 (ipykernel)",
   "language": "python",
   "name": "python3"
  },
  "language_info": {
   "codemirror_mode": {
    "name": "ipython",
    "version": 3
   },
   "file_extension": ".py",
   "mimetype": "text/x-python",
   "name": "python",
   "nbconvert_exporter": "python",
   "pygments_lexer": "ipython3",
   "version": "3.7.12"
  }
 },
 "nbformat": 4,
 "nbformat_minor": 5
}
