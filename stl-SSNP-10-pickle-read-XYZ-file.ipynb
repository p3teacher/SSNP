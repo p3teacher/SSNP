{
 "cells": [
  {
   "cell_type": "code",
   "execution_count": 1,
   "id": "eddf0088-da9f-410b-a58b-f7ee4b6ca837",
   "metadata": {},
   "outputs": [
    {
     "name": "stdout",
     "output_type": "stream",
     "text": [
      "當前工作目錄 ==> /home/jovyan\n",
      "dem_rows has 349 rows\n",
      "dem_rows has 196 column\n",
      "Done\n"
     ]
    }
   ],
   "source": [
    "# stl-SSNP-10-pickle-read-XYZ-file.py\n",
    "# 2021-12-10\n",
    "#\n",
    "# pickle 是 Python 的內建模組\n",
    "# read 349x196x3_XYZ.dat file\n",
    "#\n",
    "import os\n",
    "path = os.getcwd()\n",
    "print('當前工作目錄 ==>', path)\n",
    "#\n",
    "from stl import mesh\n",
    "import numpy as np\n",
    "import pprint\n",
    "import pickle\n",
    "#\n",
    "path_data  = './data/'\n",
    "path_3Dstl = './3Dstl/'\n",
    "#\n",
    "with open(path_data + '349x196x3_XYZ.dat', 'rb') as in_file :\n",
    "    dem_rows = pickle.load(in_file)\n",
    "# end with    \n",
    "#\n",
    "print('dem_rows has', len(dem_rows),    'rows')\n",
    "print('dem_rows has', len(dem_rows[0]), 'column')\n",
    "#\n",
    "print('Done')\n",
    "#"
   ]
  },
  {
   "cell_type": "code",
   "execution_count": null,
   "id": "8924629f-c6f4-4e61-9822-9a70b1a1147e",
   "metadata": {},
   "outputs": [],
   "source": []
  }
 ],
 "metadata": {
  "kernelspec": {
   "display_name": "Python 3 (ipykernel)",
   "language": "python",
   "name": "python3"
  },
  "language_info": {
   "codemirror_mode": {
    "name": "ipython",
    "version": 3
   },
   "file_extension": ".py",
   "mimetype": "text/x-python",
   "name": "python",
   "nbconvert_exporter": "python",
   "pygments_lexer": "ipython3",
   "version": "3.7.12"
  }
 },
 "nbformat": 4,
 "nbformat_minor": 5
}
