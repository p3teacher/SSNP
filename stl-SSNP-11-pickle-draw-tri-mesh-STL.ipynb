{
 "cells": [
  {
   "cell_type": "code",
   "execution_count": 1,
   "id": "eddf0088-da9f-410b-a58b-f7ee4b6ca837",
   "metadata": {},
   "outputs": [
    {
     "name": "stdout",
     "output_type": "stream",
     "text": [
      "當前工作目錄 ==> /home/jovyan\n",
      "dem_rows has 349 rows\n",
      "dem_rows has 196 column\n",
      "Done\n"
     ]
    }
   ],
   "source": [
    "# stl-SSNP-11-pickle-draw-tri-mesh.py\n",
    "# 2021-12-10\n",
    "#\n",
    "# pickle 是 Python 的內建模組\n",
    "# read 349x196x3_XYZ.dat file\n",
    "#\n",
    "import os\n",
    "path = os.getcwd()\n",
    "print('當前工作目錄 ==>', path)\n",
    "#\n",
    "from stl import mesh\n",
    "import numpy as np\n",
    "import pickle\n",
    "#\n",
    "path_data  = './data/'\n",
    "path_3Dstl = './3Dstl/'\n",
    "#\n",
    "with open(path_data + '349x196x3_XYZ.dat', 'rb') as in_file :\n",
    "    dem_rows = pickle.load(in_file)\n",
    "# end with    \n",
    "#\n",
    "print('dem_rows has', len(dem_rows),    'rows')\n",
    "print('dem_rows has', len(dem_rows[0]), 'column')\n",
    "#\n",
    "# each row has  196x2   tri faces  ==>    392\n",
    "# 349 rows have 349x392 tri faces  ==> 136808\n",
    "# plus buttom 5 faces ---> 10 tri faces\n",
    "# total trangles is 136808 + 10 = 136818 \n",
    "#\n",
    "tri_faces = np.zeros(136818, dtype=mesh.Mesh.dtype)\n",
    "#\n",
    "k = 0  # <--- ['vectors'] index\n",
    "for i in range(0,348,1):\n",
    "    for j in range(0,195,1):\n",
    "        tri_faces['vectors'][k  ] = np.array([ dem_rows[i][j],  dem_rows[i][j+1],  dem_rows[i+1][j] ])\n",
    "        tri_faces['vectors'][k+1] = np.array([ dem_rows[i][j+1],dem_rows[i+1][j+1],dem_rows[i+1][j] ])\n",
    "        k = k + 2\n",
    "    # end for\n",
    "# end for\n",
    "#\n",
    "# up layer verteices\n",
    "A_up = [38.0, 90.0, 0.0] # 0\n",
    "B_up = [-1.0, 90.0, 0.0] # 1\n",
    "C_up = [-1.0, 20.4, 0.0] # 2\n",
    "D_up = [38.0, 20.4, 0.0] # 3\n",
    "#\n",
    "# down layer verteices\n",
    "a_dn = [38.0, 90.0,-1.0] # 4\n",
    "b_dn = [-1.0, 90.0,-1.0] # 5\n",
    "c_dn = [-1.0, 20.4,-1.0] # 6\n",
    "d_dn = [38.0, 20.4,-1.0] # 7\n",
    "#\n",
    "# omit top face\n",
    "faces = [[C_up,c_dn,d_dn],[d_dn,D_up,C_up], # front\n",
    "         [A_up,a_dn,b_dn],[b_dn,B_up,A_up], # back\n",
    "         [B_up,b_dn,c_dn],[c_dn,C_up,B_up], # left\n",
    "         [d_dn,a_dn,D_up],[a_dn,A_up,D_up], # right\n",
    "         [d_dn,c_dn,a_dn],[c_dn,b_dn,a_dn]] # down\n",
    "#\n",
    "j = 0\n",
    "for i in range(136808,136818,1) :\n",
    "    tri_faces['vectors'][i] = np.array(faces[j])\n",
    "    j = j + 1\n",
    "# end for\n",
    "#\n",
    "# Write the mesh to file \"SSNP3D.stl\"\n",
    "SSNP3D = mesh.Mesh(tri_faces)\n",
    "SSNP3D.save(path_3Dstl + 'SSNP3D.stl')\n",
    "#\n",
    "print('Done')\n",
    "#"
   ]
  },
  {
   "cell_type": "code",
   "execution_count": null,
   "id": "8924629f-c6f4-4e61-9822-9a70b1a1147e",
   "metadata": {},
   "outputs": [],
   "source": []
  }
 ],
 "metadata": {
  "kernelspec": {
   "display_name": "Python 3 (ipykernel)",
   "language": "python",
   "name": "python3"
  },
  "language_info": {
   "codemirror_mode": {
    "name": "ipython",
    "version": 3
   },
   "file_extension": ".py",
   "mimetype": "text/x-python",
   "name": "python",
   "nbconvert_exporter": "python",
   "pygments_lexer": "ipython3",
   "version": "3.7.12"
  }
 },
 "nbformat": 4,
 "nbformat_minor": 5
}
